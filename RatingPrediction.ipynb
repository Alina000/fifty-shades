{
 "cells": [
  {
   "cell_type": "code",
   "execution_count": 1,
   "metadata": {
    "collapsed": false
   },
   "outputs": [],
   "source": [
    "from __future__ import division\n",
    "import sys\n",
    "import numpy as np\n",
    "import scipy as sp\n",
    "import pandas as pd\n",
    "from timeit import default_timer as timer\n",
    "import matplotlib.pyplot as plt\n",
    "%matplotlib inline\n",
    "from os.path import basename\n",
    "\n",
    "import seaborn as sns\n",
    "sns.set_style('white')\n",
    "\n",
    "from polara.recommender.data import RecommenderData, RecommenderDataPositive\n",
    "from polara.recommender.models import SVDModel, CoffeeModel, NonPersonalized\n",
    "from polara.evaluation import evaluation_engine as ee\n",
    "from polara.evaluation.plotting import show_hits, show_hit_rates, show_precision_recall, show_ranking, show_relevance, show_ranking_positivity\n",
    "from polara.tools.mymedialite.mmlwrapper import MyMediaLiteWrapper\n",
    "from polara.tools.movielens import get_movielens_data, filter_short_head\n",
    "from polara.tools.printing import print_frames"
   ]
  },
  {
   "cell_type": "code",
   "execution_count": 2,
   "metadata": {
    "collapsed": false
   },
   "outputs": [],
   "source": [
    "ml_file = \"ml-1m.zip\"\n",
    "if sys.platform == 'win32':\n",
    "    lib_path = 'MyMediaLite-3.11/lib/mymedialite' \n",
    "else:\n",
    "    lib_path = 'MyMediaLite-3.11/bin'\n",
    "data_folder = 'MyMediaLiteData'\n",
    "\n",
    "def get_file_name(filepath):\n",
    "    return ''.join(basename(filepath).split('.')[:-1])"
   ]
  },
  {
   "cell_type": "code",
   "execution_count": 3,
   "metadata": {
    "collapsed": true
   },
   "outputs": [],
   "source": [
    "ml_data = get_movielens_data(local_file=ml_file)\n",
    "movielens = RecommenderData(ml_data, 'userid', 'movieid', 'rating')\n",
    "movielens.name = get_file_name(ml_file)"
   ]
  },
  {
   "cell_type": "code",
   "execution_count": 4,
   "metadata": {
    "collapsed": true
   },
   "outputs": [],
   "source": [
    "movielens.holdout_size = 1\n",
    "movielens.shuffle_data = True\n",
    "movielens.test_sample = None\n",
    "movielens.random_holdout = False\n",
    "movielens.permute_tops = True"
   ]
  },
  {
   "cell_type": "code",
   "execution_count": 5,
   "metadata": {
    "collapsed": false
   },
   "outputs": [
    {
     "data": {
      "text/plain": [
       "(13, 10, 2)"
      ]
     },
     "execution_count": 5,
     "metadata": {},
     "output_type": "execute_result"
    }
   ],
   "source": [
    "coffee = CoffeeModel(movielens)\n",
    "coffee.mlrank"
   ]
  },
  {
   "cell_type": "code",
   "execution_count": 6,
   "metadata": {
    "collapsed": false
   },
   "outputs": [
    {
     "name": "stdout",
     "output_type": "stream",
     "text": [
      "Preparing data\n",
      "CoFFee model training time: 2.18131835875s\n"
     ]
    }
   ],
   "source": [
    "coffee.build()"
   ]
  },
  {
   "cell_type": "code",
   "execution_count": 7,
   "metadata": {
    "collapsed": false
   },
   "outputs": [],
   "source": [
    "v, w = coffee._items_factors, coffee._feedback_factors"
   ]
  },
  {
   "cell_type": "code",
   "execution_count": 8,
   "metadata": {
    "collapsed": false
   },
   "outputs": [
    {
     "data": {
      "text/html": [
       "<div>\n",
       "<table border=\"1\" class=\"dataframe\">\n",
       "  <thead>\n",
       "    <tr style=\"text-align: right;\">\n",
       "      <th></th>\n",
       "      <th>0</th>\n",
       "      <th>1</th>\n",
       "      <th>2</th>\n",
       "      <th>3</th>\n",
       "      <th>4</th>\n",
       "    </tr>\n",
       "  </thead>\n",
       "  <tbody>\n",
       "    <tr>\n",
       "      <th>new</th>\n",
       "      <td>0</td>\n",
       "      <td>1</td>\n",
       "      <td>2</td>\n",
       "      <td>3</td>\n",
       "      <td>4</td>\n",
       "    </tr>\n",
       "    <tr>\n",
       "      <th>old</th>\n",
       "      <td>1</td>\n",
       "      <td>2</td>\n",
       "      <td>3</td>\n",
       "      <td>4</td>\n",
       "      <td>5</td>\n",
       "    </tr>\n",
       "  </tbody>\n",
       "</table>\n",
       "</div>"
      ],
      "text/plain": [
       "     0  1  2  3  4\n",
       "new  0  1  2  3  4\n",
       "old  1  2  3  4  5"
      ]
     },
     "execution_count": 8,
     "metadata": {},
     "output_type": "execute_result"
    }
   ],
   "source": [
    "rating_model = movielens\n",
    "rating_model.index.feedback.T"
   ]
  },
  {
   "cell_type": "code",
   "execution_count": 9,
   "metadata": {
    "collapsed": false
   },
   "outputs": [
    {
     "data": {
      "text/plain": [
       "3"
      ]
     },
     "execution_count": 9,
     "metadata": {},
     "output_type": "execute_result"
    }
   ],
   "source": [
    "pos_rating_idx = rating_model.index.feedback.set_index('old').loc[coffee.switch_positive, 'new']\n",
    "pos_rating_idx"
   ]
  },
  {
   "cell_type": "code",
   "execution_count": 10,
   "metadata": {
    "collapsed": false
   },
   "outputs": [],
   "source": [
    "hit_score = {}\n",
    "almost_score = {}\n",
    "fail_score = {}\n",
    "hidden_pos = {}\n",
    "rating_diff = {}\n",
    "\n",
    "num_users = rating_model.test.testset.userid.nunique()\n",
    "\n",
    "for user_id in rating_model.test.testset.userid.unique():\n",
    "    user_data = rating_model.test.testset.query('userid==@user_id')\n",
    "    rating_data = rating_model.index.feedback.set_index('old').loc[user_data.rating.values, 'new'].values\n",
    "    movies_data = user_data.movieid.values\n",
    "\n",
    "    user_pref = sp.sparse.coo_matrix((np.ones_like(movies_data), (movies_data, rating_data)), shape = (v.shape[0], w.shape[0]))\n",
    "    recs = v.dot((v.T.dot(user_pref.A).dot(w)).dot(w.T))\n",
    "        \n",
    "    hidden_movie = rating_model.test.evalset.query('userid==@user_id').movieid.iloc[0]\n",
    "    hidden_rating = rating_model.test.evalset.query('userid==@user_id').rating.iloc[0]\n",
    "    hidden_rating_idx = rating_model.index.feedback.query('old == @hidden_rating').new.iloc[0]\n",
    "    \n",
    "    predicted_rating_idx = recs[hidden_movie, :].argmax()\n",
    "\n",
    "    if predicted_rating_idx == hidden_rating_idx:\n",
    "        hit_score[user_id] = 1\n",
    "    else:\n",
    "        rating_diff[user_id] = hidden_rating_idx - predicted_rating_idx\n",
    "        \n",
    "        is_almost_top = ((predicted_rating_idx >= pos_rating_idx) and (hidden_rating_idx >= pos_rating_idx) or\n",
    "                         (predicted_rating_idx <  pos_rating_idx) and (hidden_rating_idx <  pos_rating_idx))\n",
    "        if is_almost_top:\n",
    "            almost_score[user_id] = 1\n",
    "        else:\n",
    "            fail_score[user_id] = 1"
   ]
  },
  {
   "cell_type": "markdown",
   "metadata": {},
   "source": [
    "# RMSE result"
   ]
  },
  {
   "cell_type": "code",
   "execution_count": 11,
   "metadata": {
    "collapsed": false
   },
   "outputs": [
    {
     "data": {
      "text/plain": [
       "0.76718717334194098"
      ]
     },
     "execution_count": 11,
     "metadata": {},
     "output_type": "execute_result"
    }
   ],
   "source": [
    "RMSE = np.sqrt(np.sum(rating_diff.values())/num_users)\n",
    "RMSE"
   ]
  },
  {
   "cell_type": "code",
   "execution_count": 12,
   "metadata": {
    "collapsed": false
   },
   "outputs": [
    {
     "data": {
      "text/plain": [
       "592"
      ]
     },
     "execution_count": 12,
     "metadata": {},
     "output_type": "execute_result"
    }
   ],
   "source": [
    "bingo = sum(hit_score.values())\n",
    "bingo"
   ]
  },
  {
   "cell_type": "code",
   "execution_count": 13,
   "metadata": {
    "collapsed": false
   },
   "outputs": [
    {
     "data": {
      "text/plain": [
       "538"
      ]
     },
     "execution_count": 13,
     "metadata": {},
     "output_type": "execute_result"
    }
   ],
   "source": [
    "positive = sum(almost_score.values())\n",
    "positive"
   ]
  },
  {
   "cell_type": "code",
   "execution_count": 14,
   "metadata": {
    "collapsed": false
   },
   "outputs": [
    {
     "data": {
      "text/plain": [
       "78"
      ]
     },
     "execution_count": 14,
     "metadata": {},
     "output_type": "execute_result"
    }
   ],
   "source": [
    "fail = sum(fail_score.values())\n",
    "fail"
   ]
  },
  {
   "cell_type": "code",
   "execution_count": 15,
   "metadata": {
    "collapsed": false
   },
   "outputs": [
    {
     "data": {
      "text/plain": [
       "1208"
      ]
     },
     "execution_count": 15,
     "metadata": {},
     "output_type": "execute_result"
    }
   ],
   "source": [
    "num_users"
   ]
  },
  {
   "cell_type": "code",
   "execution_count": 16,
   "metadata": {
    "collapsed": false
   },
   "outputs": [
    {
     "data": {
      "text/plain": [
       "0.4900662251655629"
      ]
     },
     "execution_count": 16,
     "metadata": {},
     "output_type": "execute_result"
    }
   ],
   "source": [
    "bingo / num_users"
   ]
  },
  {
   "cell_type": "code",
   "execution_count": 17,
   "metadata": {
    "collapsed": false
   },
   "outputs": [
    {
     "data": {
      "text/plain": [
       "0.445364238410596"
      ]
     },
     "execution_count": 17,
     "metadata": {},
     "output_type": "execute_result"
    }
   ],
   "source": [
    "positive / num_users"
   ]
  },
  {
   "cell_type": "code",
   "execution_count": 18,
   "metadata": {
    "collapsed": false
   },
   "outputs": [
    {
     "data": {
      "text/plain": [
       "0.06456953642384106"
      ]
     },
     "execution_count": 18,
     "metadata": {},
     "output_type": "execute_result"
    }
   ],
   "source": [
    "fail / num_users"
   ]
  }
 ],
 "metadata": {
  "kernelspec": {
   "display_name": "Python 2",
   "language": "python",
   "name": "python2"
  },
  "language_info": {
   "codemirror_mode": {
    "name": "ipython",
    "version": 2
   },
   "file_extension": ".py",
   "mimetype": "text/x-python",
   "name": "python",
   "nbconvert_exporter": "python",
   "pygments_lexer": "ipython2",
   "version": "2.7.12"
  }
 },
 "nbformat": 4,
 "nbformat_minor": 0
}
